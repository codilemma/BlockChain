{
 "metadata": {
  "language_info": {
   "codemirror_mode": {
    "name": "ipython",
    "version": 3
   },
   "file_extension": ".py",
   "mimetype": "text/x-python",
   "name": "python",
   "nbconvert_exporter": "python",
   "pygments_lexer": "ipython3",
   "version": "3.9.4"
  },
  "orig_nbformat": 4,
  "kernelspec": {
   "name": "python3",
   "display_name": "Python 3.9.4 64-bit ('bc_venv': conda)"
  },
  "interpreter": {
   "hash": "bcba9315d344aca4c3d488f5282c16f891eb3ce24e4760aa0109fcd03ec15d63"
  }
 },
 "nbformat": 4,
 "nbformat_minor": 2,
 "cells": [
  {
   "cell_type": "code",
   "execution_count": 8,
   "metadata": {},
   "outputs": [
    {
     "output_type": "stream",
     "name": "stdout",
     "text": [
      "Creating genesis block\nCreated block 0\n"
     ]
    },
    {
     "output_type": "execute_result",
     "data": {
      "text/plain": [
       "[{'index': 0,\n",
       "  'timestamp': '2021-06-13T22:16:54.962294',\n",
       "  'transactions': [],\n",
       "  'previous_hash': None,\n",
       "  'hash': 'dfbbc5eace72c247c5c30f794af1fc855b79a0a1d722b1bd20591c659fc4dc13'}]"
      ]
     },
     "metadata": {},
     "execution_count": 8
    }
   ],
   "source": [
    "from BlockChain import BlockChain as bc\n",
    "\n",
    "my_bc = bc()\n",
    "my_bc.chain"
   ]
  },
  {
   "cell_type": "code",
   "execution_count": 9,
   "metadata": {},
   "outputs": [
    {
     "output_type": "stream",
     "name": "stdout",
     "text": [
      "Created block 1\n"
     ]
    },
    {
     "output_type": "execute_result",
     "data": {
      "text/plain": [
       "{'index': 1,\n",
       " 'timestamp': '2021-06-13T22:17:27.580467',\n",
       " 'transactions': [],\n",
       " 'previous_hash': 'dfbbc5eace72c247c5c30f794af1fc855b79a0a1d722b1bd20591c659fc4dc13',\n",
       " 'hash': 'd4434afe42b8de66cff7181504e939e8337958c06dda0998971b67b6bdeda628'}"
      ]
     },
     "metadata": {},
     "execution_count": 9
    }
   ],
   "source": [
    "# Add a new block to the chain\n",
    "my_bc.new_block(previous_hash=\"dfbbc5eace72c247c5c30f794af1fc855b79a0a1d722b1bd20591c659fc4dc13\")"
   ]
  },
  {
   "cell_type": "code",
   "execution_count": 10,
   "metadata": {},
   "outputs": [
    {
     "output_type": "execute_result",
     "data": {
      "text/plain": [
       "[{'index': 0,\n",
       "  'timestamp': '2021-06-13T22:16:54.962294',\n",
       "  'transactions': [],\n",
       "  'previous_hash': None,\n",
       "  'hash': 'dfbbc5eace72c247c5c30f794af1fc855b79a0a1d722b1bd20591c659fc4dc13'},\n",
       " {'index': 1,\n",
       "  'timestamp': '2021-06-13T22:17:27.580467',\n",
       "  'transactions': [],\n",
       "  'previous_hash': 'dfbbc5eace72c247c5c30f794af1fc855b79a0a1d722b1bd20591c659fc4dc13',\n",
       "  'hash': 'd4434afe42b8de66cff7181504e939e8337958c06dda0998971b67b6bdeda628'}]"
      ]
     },
     "metadata": {},
     "execution_count": 10
    }
   ],
   "source": [
    "my_bc.chain"
   ]
  },
  {
   "source": [
    "# Trivial example of prooof of work\n",
    "from hashlib import sha256\n",
    "\n",
    "x = 5\n",
    "y = 0 # We don't know what y should be yet...\n",
    "\n",
    "while sha256(f'{x*y}'.encode()).hexdigest() [-1] != \"0\":\n",
    "    y += 1\n",
    "\n",
    "print(f'The solution is y = {y}')"
   ],
   "cell_type": "code",
   "metadata": {},
   "execution_count": 11,
   "outputs": [
    {
     "output_type": "stream",
     "name": "stdout",
     "text": [
      "The solution is y = 21\n"
     ]
    }
   ]
  },
  {
   "cell_type": "code",
   "execution_count": 12,
   "metadata": {},
   "outputs": [
    {
     "output_type": "execute_result",
     "data": {
      "text/plain": [
       "'1253e9373e781b7500266caa55150e08e210bc8cd8cc70d89985e3600155e860'"
      ]
     },
     "metadata": {},
     "execution_count": 12
    }
   ],
   "source": [
    "sha256(f'{5*21}'.encode()).hexdigest()"
   ]
  },
  {
   "cell_type": "code",
   "execution_count": 2,
   "metadata": {},
   "outputs": [
    {
     "output_type": "stream",
     "name": "stdout",
     "text": [
      "Creating genesis block\n"
     ]
    }
   ],
   "source": [
    "# Test proof of work additions to BlockChain class\n",
    "from BlockChain import BlockChain\n",
    "\n",
    "bc = BlockChain()"
   ]
  },
  {
   "cell_type": "code",
   "execution_count": 3,
   "metadata": {},
   "outputs": [
    {
     "output_type": "stream",
     "name": "stdout",
     "text": [
      "Found a new block: {'index': 1, 'timestamp': '2021-06-13T23:52:57.859897', 'transactions': [], 'previous_hash': '62563c38e6e61204a9ab1a6a7650074fae209285dc3b2e361a997ff4ad3dbc58', 'nonce': '9730e98a0f44aba1', 'hash': '0000fb96ab7eaad03a752389fcff7bf95e9be98cb6e82145bdfbc3793ed0fe12'}\n"
     ]
    }
   ],
   "source": [
    "bc.proof_of_work()"
   ]
  },
  {
   "cell_type": "code",
   "execution_count": 6,
   "metadata": {},
   "outputs": [
    {
     "output_type": "stream",
     "name": "stdout",
     "text": [
      "0.000s: Program Start\n",
      "t2: I waited 2 seconds before saying \"hello\"\n",
      "t3: I waited 2 seconds before saying \"hello\"\n",
      "t1: I waited 3 seconds before saying \"hello\"\n",
      "3.00s: Program End\n"
     ]
    }
   ],
   "source": [
    "# cooperative multitasking using the asyncio library\n",
    "# Pausing and resuming fast enough so that a progam\n",
    "# appears to be running in parallel\n",
    "import asyncio\n",
    "import time\n",
    "\n",
    "async def greet(name, delay):\n",
    "    await asyncio.sleep(delay)\n",
    "    print(f'{name}: I waited {delay} seconds before saying \"hello\"')\n",
    "\n",
    "async def main():\n",
    "    task_1 = asyncio.create_task(greet(\"t1\", 3))\n",
    "    task_2 = asyncio.create_task(greet(\"t2\", 2))\n",
    "    task_3 = asyncio.create_task(greet(\"t3\", 2))\n",
    "\n",
    "    start_time = time.time()\n",
    "\n",
    "    print(\"0.000s: Program Start\")\n",
    "\n",
    "    await task_1\n",
    "    await task_2\n",
    "    await task_3\n",
    "\n",
    "    print(f\"{time.time() - start_time:.2f}s: Program End\")\n",
    "\n",
    "# Use the following outside of the Jupyter NB\n",
    "# asyncio.run(main())\n",
    "\n",
    "# For Jupyter:\n",
    "await main()"
   ]
  },
  {
   "cell_type": "code",
   "execution_count": null,
   "metadata": {},
   "outputs": [],
   "source": []
  }
 ]
}