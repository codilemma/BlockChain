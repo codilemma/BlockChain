{
 "cells": [
  {
   "cell_type": "code",
   "execution_count": 8,
   "metadata": {},
   "outputs": [
    {
     "name": "stdout",
     "output_type": "stream",
     "text": [
      "Creating genesis block\n",
      "Created block 0\n"
     ]
    },
    {
     "data": {
      "text/plain": [
       "[{'index': 0,\n",
       "  'timestamp': '2021-06-13T22:16:54.962294',\n",
       "  'transactions': [],\n",
       "  'previous_hash': None,\n",
       "  'hash': 'dfbbc5eace72c247c5c30f794af1fc855b79a0a1d722b1bd20591c659fc4dc13'}]"
      ]
     },
     "execution_count": 8,
     "metadata": {},
     "output_type": "execute_result"
    }
   ],
   "source": [
    "from BlockChain import BlockChain as bc\n",
    "\n",
    "my_bc = bc()\n",
    "my_bc.chain"
   ]
  },
  {
   "cell_type": "code",
   "execution_count": 9,
   "metadata": {},
   "outputs": [
    {
     "name": "stdout",
     "output_type": "stream",
     "text": [
      "Created block 1\n"
     ]
    },
    {
     "data": {
      "text/plain": [
       "{'index': 1,\n",
       " 'timestamp': '2021-06-13T22:17:27.580467',\n",
       " 'transactions': [],\n",
       " 'previous_hash': 'dfbbc5eace72c247c5c30f794af1fc855b79a0a1d722b1bd20591c659fc4dc13',\n",
       " 'hash': 'd4434afe42b8de66cff7181504e939e8337958c06dda0998971b67b6bdeda628'}"
      ]
     },
     "execution_count": 9,
     "metadata": {},
     "output_type": "execute_result"
    }
   ],
   "source": [
    "# Add a new block to the chain\n",
    "my_bc.new_block(previous_hash=\"dfbbc5eace72c247c5c30f794af1fc855b79a0a1d722b1bd20591c659fc4dc13\")"
   ]
  },
  {
   "cell_type": "code",
   "execution_count": 10,
   "metadata": {},
   "outputs": [
    {
     "data": {
      "text/plain": [
       "[{'index': 0,\n",
       "  'timestamp': '2021-06-13T22:16:54.962294',\n",
       "  'transactions': [],\n",
       "  'previous_hash': None,\n",
       "  'hash': 'dfbbc5eace72c247c5c30f794af1fc855b79a0a1d722b1bd20591c659fc4dc13'},\n",
       " {'index': 1,\n",
       "  'timestamp': '2021-06-13T22:17:27.580467',\n",
       "  'transactions': [],\n",
       "  'previous_hash': 'dfbbc5eace72c247c5c30f794af1fc855b79a0a1d722b1bd20591c659fc4dc13',\n",
       "  'hash': 'd4434afe42b8de66cff7181504e939e8337958c06dda0998971b67b6bdeda628'}]"
      ]
     },
     "execution_count": 10,
     "metadata": {},
     "output_type": "execute_result"
    }
   ],
   "source": [
    "my_bc.chain"
   ]
  },
  {
   "cell_type": "code",
   "execution_count": 11,
   "metadata": {},
   "outputs": [
    {
     "name": "stdout",
     "output_type": "stream",
     "text": [
      "The solution is y = 21\n"
     ]
    }
   ],
   "source": [
    "# Trivial example of prooof of work\n",
    "from hashlib import sha256\n",
    "\n",
    "x = 5\n",
    "y = 0 # We don't know what y should be yet...\n",
    "\n",
    "while sha256(f'{x*y}'.encode()).hexdigest() [-1] != \"0\":\n",
    "    y += 1\n",
    "\n",
    "print(f'The solution is y = {y}')"
   ]
  },
  {
   "cell_type": "code",
   "execution_count": 12,
   "metadata": {},
   "outputs": [
    {
     "data": {
      "text/plain": [
       "'1253e9373e781b7500266caa55150e08e210bc8cd8cc70d89985e3600155e860'"
      ]
     },
     "execution_count": 12,
     "metadata": {},
     "output_type": "execute_result"
    }
   ],
   "source": [
    "sha256(f'{5*21}'.encode()).hexdigest()"
   ]
  },
  {
   "cell_type": "code",
   "execution_count": 2,
   "metadata": {},
   "outputs": [
    {
     "name": "stdout",
     "output_type": "stream",
     "text": [
      "Creating genesis block\n"
     ]
    }
   ],
   "source": [
    "# Test proof of work additions to BlockChain class\n",
    "from BlockChain import BlockChain\n",
    "\n",
    "bc = BlockChain()"
   ]
  },
  {
   "cell_type": "code",
   "execution_count": 3,
   "metadata": {},
   "outputs": [
    {
     "name": "stdout",
     "output_type": "stream",
     "text": [
      "Found a new block: {'index': 1, 'timestamp': '2021-06-13T23:52:57.859897', 'transactions': [], 'previous_hash': '62563c38e6e61204a9ab1a6a7650074fae209285dc3b2e361a997ff4ad3dbc58', 'nonce': '9730e98a0f44aba1', 'hash': '0000fb96ab7eaad03a752389fcff7bf95e9be98cb6e82145bdfbc3793ed0fe12'}\n"
     ]
    }
   ],
   "source": [
    "bc.proof_of_work()"
   ]
  },
  {
   "cell_type": "code",
   "execution_count": 6,
   "metadata": {},
   "outputs": [
    {
     "name": "stdout",
     "output_type": "stream",
     "text": [
      "0.000s: Program Start\n",
      "t2: I waited 2 seconds before saying \"hello\"\n",
      "t3: I waited 2 seconds before saying \"hello\"\n",
      "t1: I waited 3 seconds before saying \"hello\"\n",
      "3.00s: Program End\n"
     ]
    }
   ],
   "source": [
    "# cooperative multitasking using the asyncio library\n",
    "# Pausing and resuming fast enough so that a progam\n",
    "# appears to be running in parallel\n",
    "import asyncio\n",
    "import time\n",
    "\n",
    "async def greet(name, delay):\n",
    "    await asyncio.sleep(delay)\n",
    "    print(f'{name}: I waited {delay} seconds before saying \"hello\"')\n",
    "\n",
    "async def main():\n",
    "    task_1 = asyncio.create_task(greet(\"t1\", 3))\n",
    "    task_2 = asyncio.create_task(greet(\"t2\", 2))\n",
    "    task_3 = asyncio.create_task(greet(\"t3\", 2))\n",
    "\n",
    "    start_time = time.time()\n",
    "\n",
    "    print(\"0.000s: Program Start\")\n",
    "\n",
    "    await task_1\n",
    "    await task_2\n",
    "    await task_3\n",
    "\n",
    "    print(f\"{time.time() - start_time:.2f}s: Program End\")\n",
    "\n",
    "# Use the following outside of the Jupyter NB\n",
    "# asyncio.run(main())\n",
    "\n",
    "# For Jupyter:\n",
    "await main()"
   ]
  },
  {
   "cell_type": "code",
   "execution_count": 3,
   "metadata": {},
   "outputs": [],
   "source": [
    "# Digital Signatures\n",
    "# 1. plaintext data is hashed(prevents tampering)\n",
    "# 2. Output hash is encrypted using the private key\n",
    "# 3. Encrypted hash is concatenated to the data\n",
    "\n",
    "import nacl.encoding\n",
    "import nacl.signing\n",
    "\n",
    "# Generate a new key-pair for Bob\n",
    "bobs_private_key = nacl.signing.SigningKey.generate()\n",
    "bobs_public_key = bobs_private_key.verify_key\n",
    "\n",
    "# Since it's bytes, we'll need to serialize the key to\n",
    "# a readable format before publishing it:\n",
    "bobs_public_key_hex = bobs_public_key.encode(encoder=nacl.encoding.HexEncoder)\n",
    "\n",
    "# Now, let's sign a message with it.\n",
    "signed = bobs_private_key.sign(b\"Send $37 to Alice\")\n",
    "\n"
   ]
  },
  {
   "cell_type": "markdown",
   "metadata": {},
   "source": [
    "# A Transaction has a simple data structure, containing:\n",
    "    1. Sender's public key\n",
    "    2. Recipient's public key\n",
    "    3. Amount to be transferred\n",
    "    4. An advertised fee ('transaction fee')\n"
   ]
  },
  {
   "cell_type": "markdown",
   "metadata": {},
   "source": [
    "# The Atomic Units of our Node\n",
    "    - A blockchain for maintaining an immutable chain of data\n",
    "    - A server for allowing clients to connect and send data back and forth\n",
    "    - A mining algorithm for creating funcoins\n",
    "    - Cryptography basics to allow us to verify and construct transactions\n",
    "\n",
    "    "
   ]
  },
  {
   "cell_type": "code",
   "execution_count": null,
   "metadata": {},
   "outputs": [],
   "source": []
  },
  {
   "cell_type": "markdown",
   "metadata": {},
   "source": []
  }
 ],
 "metadata": {
  "interpreter": {
   "hash": "bcba9315d344aca4c3d488f5282c16f891eb3ce24e4760aa0109fcd03ec15d63"
  },
  "kernelspec": {
   "display_name": "Python 3.9.4 64-bit ('bc_venv': conda)",
   "name": "python3"
  },
  "language_info": {
   "name": "python",
   "version": ""
  },
  "orig_nbformat": 4
 },
 "nbformat": 4,
 "nbformat_minor": 2
}